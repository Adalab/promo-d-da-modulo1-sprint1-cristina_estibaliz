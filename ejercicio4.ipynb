{
 "cells": [
  {
   "attachments": {},
   "cell_type": "markdown",
   "metadata": {},
   "source": [
    "Vamos a crear un diccionario paso a paso. Lo definimos con cuatro keys que serán: \n",
    "nombres\n",
    "apellidos\n",
    "edades\n",
    "hijos\n",
    "\n",
    "Cada una de las keys tendrá un value que será una lista que iremos construyendo con inputs. Para crear los values seguid los pasos que os indicamos a continuación.\n",
    "Cread un input que pregunte a la usuaria por tres nombres. Almacenad el resultado en una lista. Esta lista será el value de la key nombres\n",
    "Cread un input que pregunte a la usuaria por tres apellidos. Convertir el resultado en lista y este será el value de la key apellidos.\n",
    "Cread un input que pregunte a la usuaria por tres edades. Almancenad los resultados en una lista. Esta lista será el value de la key edades.\n",
    "Cread un input que pregunte a la usuaria por el número de hijos. Almacenad este resultado en una lista. Esta lista será el value de la key hijos.\n",
    "Cread un diccionario con los resultados del input. Al final de todos estos pasos deberíamos tener un diccionario similar a este:\n",
    "{'nombres': ['Lara', ' Alejandro', ' Ana'],\n",
    "  'apellidos': ['Lopez', ' Martin', ' Solo'],\n",
    "  'edades': [34, 20, 28],\n",
    "  'hijos': [2, 0, 1]}"
   ]
  },
  {
   "cell_type": "code",
   "execution_count": 1,
   "metadata": {},
   "outputs": [
    {
     "name": "stdout",
     "output_type": "stream",
     "text": [
      "{'nombres': [], 'apellidos': [], 'edades': [], 'hijos': []}\n"
     ]
    }
   ],
   "source": [
    "diccionario = {'nombres': [], 'apellidos':[], 'edades':[], 'hijos':[]}\n",
    "print(diccionario)"
   ]
  },
  {
   "cell_type": "code",
   "execution_count": 2,
   "metadata": {},
   "outputs": [],
   "source": [
    "nombres_usuario = input('Dime tres nombres')\n",
    "nombres = nombres_usuario.split(\", \")\n"
   ]
  },
  {
   "cell_type": "code",
   "execution_count": 3,
   "metadata": {},
   "outputs": [],
   "source": [
    "apellidos_usuario = input('Dime tres apellidos')"
   ]
  },
  {
   "cell_type": "code",
   "execution_count": 4,
   "metadata": {},
   "outputs": [],
   "source": [
    "apellidos = apellidos_usuario.split(\",\")"
   ]
  },
  {
   "cell_type": "code",
   "execution_count": 5,
   "metadata": {},
   "outputs": [],
   "source": [
    "edades_usuario = input('Dime las edades de tres amigos')"
   ]
  },
  {
   "cell_type": "code",
   "execution_count": 6,
   "metadata": {},
   "outputs": [],
   "source": [
    "edades= edades_usuario.split(\",\")"
   ]
  },
  {
   "cell_type": "code",
   "execution_count": 7,
   "metadata": {},
   "outputs": [],
   "source": [
    "numero_hijos = input('Dime cuántos hijos tienes y dos de tus amigos')"
   ]
  },
  {
   "cell_type": "code",
   "execution_count": 8,
   "metadata": {},
   "outputs": [],
   "source": [
    "hijos = numero_hijos.split(\",\")"
   ]
  },
  {
   "cell_type": "code",
   "execution_count": 9,
   "metadata": {},
   "outputs": [
    {
     "name": "stdout",
     "output_type": "stream",
     "text": [
      "{'nombres': ['Lola', 'Pepa', 'Maria'], 'apellidos': ['Gallego', ' Bernabeu', ' Lopez'], 'edades': ['17', ' 35', ' 24'], 'hijos': ['3', ' 4', ' 2']}\n"
     ]
    }
   ],
   "source": [
    "diccionario = {'nombres': nombres, 'apellidos': apellidos, 'edades': edades, 'hijos': hijos}\n",
    "print(diccionario)"
   ]
  },
  {
   "attachments": {},
   "cell_type": "markdown",
   "metadata": {},
   "source": [
    "Una vez tengáis creado el diccionario, añadid una nueva key donde tengamos la información sobre el número de hermanos."
   ]
  },
  {
   "cell_type": "code",
   "execution_count": 10,
   "metadata": {},
   "outputs": [],
   "source": [
    "numero_hermanos = input('Dime cántos hermanos tienes y cuántos tienen dos de tus amigos')"
   ]
  },
  {
   "cell_type": "code",
   "execution_count": 11,
   "metadata": {},
   "outputs": [],
   "source": [
    "hermanos = numero_hermanos.split(\", \")\n"
   ]
  },
  {
   "cell_type": "code",
   "execution_count": 12,
   "metadata": {},
   "outputs": [
    {
     "data": {
      "text/plain": [
       "{'nombres': ['Lola', 'Pepa', 'Maria'],\n",
       " 'apellidos': ['Gallego', ' Bernabeu', ' Lopez'],\n",
       " 'edades': ['17', ' 35', ' 24'],\n",
       " 'hijos': ['3', ' 4', ' 2'],\n",
       " 'hermanos': ['2', '3', '5']}"
      ]
     },
     "execution_count": 12,
     "metadata": {},
     "output_type": "execute_result"
    }
   ],
   "source": [
    "diccionario.update({'hermanos':hermanos})\n",
    "diccionario"
   ]
  },
  {
   "attachments": {},
   "cell_type": "markdown",
   "metadata": {},
   "source": [
    "¿Cúales son las keys de nuestro diccionario? ¿Y los values?"
   ]
  },
  {
   "cell_type": "code",
   "execution_count": 13,
   "metadata": {},
   "outputs": [
    {
     "data": {
      "text/plain": [
       "dict_keys(['nombres', 'apellidos', 'edades', 'hijos', 'hermanos'])"
      ]
     },
     "execution_count": 13,
     "metadata": {},
     "output_type": "execute_result"
    }
   ],
   "source": [
    "diccionario.keys()"
   ]
  },
  {
   "cell_type": "code",
   "execution_count": 14,
   "metadata": {},
   "outputs": [
    {
     "data": {
      "text/plain": [
       "dict_values([['Lola', 'Pepa', 'Maria'], ['Gallego', ' Bernabeu', ' Lopez'], ['17', ' 35', ' 24'], ['3', ' 4', ' 2'], ['2', '3', '5']])"
      ]
     },
     "execution_count": 14,
     "metadata": {},
     "output_type": "execute_result"
    }
   ],
   "source": [
    "diccionario.values()"
   ]
  },
  {
   "attachments": {},
   "cell_type": "markdown",
   "metadata": {},
   "source": [
    "Para extraer los values de una key podemos hacerlo de varias formas. Extraed los valores de la key nombres. Utilizad dos métodos diferentes."
   ]
  },
  {
   "cell_type": "code",
   "execution_count": 15,
   "metadata": {},
   "outputs": [
    {
     "name": "stdout",
     "output_type": "stream",
     "text": [
      "['Lola', 'Pepa', 'Maria']\n"
     ]
    },
    {
     "data": {
      "text/plain": [
       "['Lola', 'Pepa', 'Maria']"
      ]
     },
     "execution_count": 15,
     "metadata": {},
     "output_type": "execute_result"
    }
   ],
   "source": [
    "# extraer los valores de la key 'nombres' de dos maneras\n",
    "\n",
    "print(diccionario['nombres'])\n",
    "\n",
    "diccionario.get('nombres')"
   ]
  },
  {
   "attachments": {},
   "cell_type": "markdown",
   "metadata": {},
   "source": [
    "Extraed los valores de la key nacionalidad. En caso de que no exista, cread esa key con el value \"desconocida\"."
   ]
  },
  {
   "cell_type": "code",
   "execution_count": 16,
   "metadata": {},
   "outputs": [
    {
     "data": {
      "text/plain": [
       "'desconocida'"
      ]
     },
     "execution_count": 16,
     "metadata": {},
     "output_type": "execute_result"
    }
   ],
   "source": [
    "# extraer los valores de la key 'nacionalidad'. Como no existe, nos devuelve el output 'desconocida'\n",
    "\n",
    "diccionario.get('nacionalidad', 'desconocida')"
   ]
  },
  {
   "cell_type": "code",
   "execution_count": 17,
   "metadata": {},
   "outputs": [
    {
     "data": {
      "text/plain": [
       "['desconocida']"
      ]
     },
     "execution_count": 17,
     "metadata": {},
     "output_type": "execute_result"
    }
   ],
   "source": [
    "diccionario.setdefault('nacionalidad', ['desconocida'])"
   ]
  },
  {
   "cell_type": "code",
   "execution_count": 18,
   "metadata": {},
   "outputs": [
    {
     "data": {
      "text/plain": [
       "{'nombres': ['Lola', 'Pepa', 'Maria'],\n",
       " 'apellidos': ['Gallego', ' Bernabeu', ' Lopez'],\n",
       " 'edades': ['17', ' 35', ' 24'],\n",
       " 'hijos': ['3', ' 4', ' 2'],\n",
       " 'hermanos': ['2', '3', '5'],\n",
       " 'nacionalidad': ['desconocida']}"
      ]
     },
     "execution_count": 18,
     "metadata": {},
     "output_type": "execute_result"
    }
   ],
   "source": [
    "diccionario"
   ]
  },
  {
   "attachments": {},
   "cell_type": "markdown",
   "metadata": {},
   "source": [
    "Ordena los elementos del diccionario basándonos en las keys y los values. Esto nos devuelve una lista de tuplas(todavía no hemos visto este tipo de datos, pero lo veremos en la lección de mañana). Convertid esta lista de tuplas en diccionario."
   ]
  },
  {
   "cell_type": "code",
   "execution_count": 19,
   "metadata": {},
   "outputs": [
    {
     "name": "stdout",
     "output_type": "stream",
     "text": [
      "dict_items([('nombres', ['Lola', 'Pepa', 'Maria']), ('apellidos', ['Gallego', ' Bernabeu', ' Lopez']), ('edades', ['17', ' 35', ' 24']), ('hijos', ['3', ' 4', ' 2']), ('hermanos', ['2', '3', '5']), ('nacionalidad', ['desconocida'])])\n"
     ]
    }
   ],
   "source": [
    "dicc_items = diccionario.items()\n",
    "print(dicc_items)"
   ]
  },
  {
   "cell_type": "code",
   "execution_count": 20,
   "metadata": {},
   "outputs": [
    {
     "name": "stdout",
     "output_type": "stream",
     "text": [
      "{'nombres': ['Lola', 'Pepa', 'Maria'], 'apellidos': ['Gallego', ' Bernabeu', ' Lopez'], 'edades': ['17', ' 35', ' 24'], 'hijos': ['3', ' 4', ' 2'], 'hermanos': ['2', '3', '5'], 'nacionalidad': ['desconocida']}\n"
     ]
    },
    {
     "data": {
      "text/plain": [
       "dict"
      ]
     },
     "execution_count": 20,
     "metadata": {},
     "output_type": "execute_result"
    }
   ],
   "source": [
    "diccionario2 = dict(dicc_items)\n",
    "print(diccionario2)\n",
    "type(diccionario2)"
   ]
  },
  {
   "attachments": {},
   "cell_type": "markdown",
   "metadata": {},
   "source": [
    "Eliminad la key \"nacionalidad\"\n"
   ]
  },
  {
   "cell_type": "code",
   "execution_count": 21,
   "metadata": {},
   "outputs": [
    {
     "data": {
      "text/plain": [
       "['desconocida']"
      ]
     },
     "execution_count": 21,
     "metadata": {},
     "output_type": "execute_result"
    }
   ],
   "source": [
    "diccionario2.pop(\"nacionalidad\")\n"
   ]
  },
  {
   "cell_type": "code",
   "execution_count": 37,
   "metadata": {},
   "outputs": [
    {
     "name": "stdout",
     "output_type": "stream",
     "text": [
      "{'nombres': ['Lola', 'Pepa', 'Maria'], 'apellidos': ['Gallego', ' Bernabeu', ' Lopez'], 'edades': ['17', ' 35', ' 24'], 'hijos': ['3', ' 4', ' 2'], 'hermanos': ['2', '3', '5']}\n"
     ]
    }
   ],
   "source": [
    "print(diccionario2)"
   ]
  },
  {
   "attachments": {},
   "cell_type": "markdown",
   "metadata": {},
   "source": [
    "Utilizando métodos de Python. ¿Qué persona tiene mayor número de hijos? ¿Y quién es la más joven?"
   ]
  },
  {
   "cell_type": "code",
   "execution_count": 43,
   "metadata": {},
   "outputs": [
    {
     "ename": "KeyError",
     "evalue": "3",
     "output_type": "error",
     "traceback": [
      "\u001b[0;31m---------------------------------------------------------------------------\u001b[0m",
      "\u001b[0;31mKeyError\u001b[0m                                  Traceback (most recent call last)",
      "\u001b[0;32m/tmp/ipykernel_1965/2153877814.py\u001b[0m in \u001b[0;36m<module>\u001b[0;34m\u001b[0m\n\u001b[0;32m----> 1\u001b[0;31m \u001b[0mmin\u001b[0m\u001b[0;34m(\u001b[0m\u001b[0mdiccionario2\u001b[0m\u001b[0;34m[\u001b[0m\u001b[0;36m3\u001b[0m\u001b[0;34m]\u001b[0m\u001b[0;34m)\u001b[0m\u001b[0;34m\u001b[0m\u001b[0;34m\u001b[0m\u001b[0m\n\u001b[0m\u001b[1;32m      2\u001b[0m \u001b[0;34m\u001b[0m\u001b[0m\n\u001b[1;32m      3\u001b[0m \u001b[0mmax\u001b[0m\u001b[0;34m(\u001b[0m\u001b[0mdiccionario2\u001b[0m\u001b[0;34m[\u001b[0m\u001b[0;36m4\u001b[0m\u001b[0;34m]\u001b[0m\u001b[0;34m)\u001b[0m\u001b[0;34m\u001b[0m\u001b[0;34m\u001b[0m\u001b[0m\n\u001b[1;32m      4\u001b[0m \u001b[0;34m\u001b[0m\u001b[0m\n\u001b[1;32m      5\u001b[0m \u001b[0;34m\u001b[0m\u001b[0m\n",
      "\u001b[0;31mKeyError\u001b[0m: 3"
     ]
    }
   ],
   "source": [
    "min(diccionario2[3])\n",
    "\n",
    "max(diccionario2[4])\n",
    "\n",
    "\n"
   ]
  }
 ],
 "metadata": {
  "kernelspec": {
   "display_name": "Python 3",
   "language": "python",
   "name": "python3"
  },
  "language_info": {
   "codemirror_mode": {
    "name": "ipython",
    "version": 3
   },
   "file_extension": ".py",
   "mimetype": "text/x-python",
   "name": "python",
   "nbconvert_exporter": "python",
   "pygments_lexer": "ipython3",
   "version": "3.9.7"
  },
  "orig_nbformat": 4,
  "vscode": {
   "interpreter": {
    "hash": "31f2aee4e71d21fbe5cf8b01ff0e069b9275f58929596ceb00d14d90e3e16cd6"
   }
  }
 },
 "nbformat": 4,
 "nbformat_minor": 2
}
