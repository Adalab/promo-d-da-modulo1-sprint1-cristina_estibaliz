{
 "cells": [
  {
   "attachments": {},
   "cell_type": "markdown",
   "metadata": {},
   "source": [
    "Cread una lista con 10 números aleatorios entre el 0 y el 100. Para ello ejecutd el siguiente código:"
   ]
  },
  {
   "cell_type": "code",
   "execution_count": 2,
   "metadata": {},
   "outputs": [],
   "source": [
    "import random\n",
    "lista = random.sample(range(1,100), 10)"
   ]
  },
  {
   "attachments": {},
   "cell_type": "markdown",
   "metadata": {},
   "source": [
    "No hay por qué entender este código todavía. Consultar los links facilitados en random.sample() y range() para más información. "
   ]
  },
  {
   "attachments": {},
   "cell_type": "markdown",
   "metadata": {},
   "source": [
    "Con la lista creada en el ejercicio anterior y considerando que cuando se pregunta por una posición se hace desde la referencia/posición \"humana\":\n",
    ". ¿Cuál es la longitud de la lista? "
   ]
  },
  {
   "cell_type": "code",
   "execution_count": 3,
   "metadata": {},
   "outputs": [
    {
     "data": {
      "text/plain": [
       "10"
      ]
     },
     "execution_count": 3,
     "metadata": {},
     "output_type": "execute_result"
    }
   ],
   "source": [
    "len(lista)"
   ]
  },
  {
   "attachments": {},
   "cell_type": "markdown",
   "metadata": {},
   "source": [
    "Extraed el número que está en la tercera posición. Recordad que los índices en Python empiezan en 0 y no son los de las posiciones \"humanas\". "
   ]
  },
  {
   "cell_type": "code",
   "execution_count": 4,
   "metadata": {},
   "outputs": [
    {
     "name": "stdout",
     "output_type": "stream",
     "text": [
      "[86, 93, 40, 31, 16, 21, 91, 13, 51, 32]\n"
     ]
    },
    {
     "data": {
      "text/plain": [
       "40"
      ]
     },
     "execution_count": 4,
     "metadata": {},
     "output_type": "execute_result"
    }
   ],
   "source": [
    "print(lista[:])\n",
    "\n",
    "lista[2]"
   ]
  },
  {
   "attachments": {},
   "cell_type": "markdown",
   "metadata": {},
   "source": [
    "Extraed el número que está en la tercera posición utilizando los índices negativos. "
   ]
  },
  {
   "cell_type": "code",
   "execution_count": 5,
   "metadata": {},
   "outputs": [
    {
     "name": "stdout",
     "output_type": "stream",
     "text": [
      "40\n"
     ]
    }
   ],
   "source": [
    "print(lista[-8])"
   ]
  },
  {
   "attachments": {},
   "cell_type": "markdown",
   "metadata": {},
   "source": [
    "Preguntad al usuario por un número de la lista que hemos creado en el primer paso. ¿En qué posición está el número que ha elegido la usuaria?"
   ]
  },
  {
   "cell_type": "code",
   "execution_count": 10,
   "metadata": {},
   "outputs": [],
   "source": [
    "numero_usuario = input(\"Elige un numero de la lista\")"
   ]
  },
  {
   "cell_type": "code",
   "execution_count": 7,
   "metadata": {},
   "outputs": [
    {
     "name": "stdout",
     "output_type": "stream",
     "text": [
      "\n"
     ]
    }
   ],
   "source": [
    "print(numero_usuario)"
   ]
  },
  {
   "cell_type": "code",
   "execution_count": 12,
   "metadata": {},
   "outputs": [
    {
     "data": {
      "text/plain": [
       "4"
      ]
     },
     "execution_count": 12,
     "metadata": {},
     "output_type": "execute_result"
    }
   ],
   "source": [
    "# esto igual habría que revisarlo. Sirve para ese número pero no para cualquiera. \n",
    "lista.index(16)\n"
   ]
  },
  {
   "attachments": {},
   "cell_type": "markdown",
   "metadata": {},
   "source": [
    "Extraed los valores que estén entre la tercera posición y la quinta ambas inclusive. "
   ]
  },
  {
   "cell_type": "code",
   "execution_count": 13,
   "metadata": {},
   "outputs": [
    {
     "name": "stdout",
     "output_type": "stream",
     "text": [
      "[31, 16, 21]\n"
     ]
    }
   ],
   "source": [
    "print(lista[3:6])"
   ]
  },
  {
   "attachments": {},
   "cell_type": "markdown",
   "metadata": {},
   "source": [
    "Extraed los valores que estén entre las posiciones 6 y 9 utilizando índices negativos. "
   ]
  },
  {
   "cell_type": "code",
   "execution_count": 14,
   "metadata": {},
   "outputs": [
    {
     "name": "stdout",
     "output_type": "stream",
     "text": [
      "[21, 91, 13, 51]\n"
     ]
    }
   ],
   "source": [
    "# entendemos que hay que hacerlo así porque programa lee los argumentos de izquierda a derecha\n",
    "print(lista[-5:-1])"
   ]
  },
  {
   "attachments": {},
   "cell_type": "markdown",
   "metadata": {},
   "source": [
    "¿Cuáles son los números que están en la lista en las posiciones pares?"
   ]
  },
  {
   "cell_type": "code",
   "execution_count": 15,
   "metadata": {},
   "outputs": [
    {
     "name": "stdout",
     "output_type": "stream",
     "text": [
      "[93, 31, 21, 13, 32]\n"
     ]
    }
   ],
   "source": [
    "#posiciones pares\n",
    "print(lista[1::2])"
   ]
  },
  {
   "attachments": {},
   "cell_type": "markdown",
   "metadata": {},
   "source": [
    ". ¿Cuáles están en las posiciones impares?"
   ]
  },
  {
   "cell_type": "code",
   "execution_count": 16,
   "metadata": {},
   "outputs": [
    {
     "name": "stdout",
     "output_type": "stream",
     "text": [
      "[86, 40, 16, 91, 51]\n"
     ]
    }
   ],
   "source": [
    "#posiciones impares\n",
    "\n",
    "print(lista[::2])"
   ]
  },
  {
   "attachments": {},
   "cell_type": "markdown",
   "metadata": {},
   "source": [
    "Dadas las siguientes listas:"
   ]
  },
  {
   "cell_type": "code",
   "execution_count": 58,
   "metadata": {},
   "outputs": [],
   "source": [
    "nombres = [\"Laura\", \"Lorena\", \"Lupe\", \"Loreto\", \"Lucía\"]\n",
    "\n",
    "notas = [9, 8.5, 9.8, 8.9, 9.2]"
   ]
  },
  {
   "attachments": {},
   "cell_type": "markdown",
   "metadata": {},
   "source": [
    "¿Qué nota ha sacado Lupe? Para este ejercicio os pedimos que uséis primero el método index() de listas y luego lo índices con [] de las listas. Para esto tendréis que sacar primero en que posición esta Lupe en la lista nombres y usar el resultado de este paso para acceder ,usando los índices de Python, a la nota de Lupe."
   ]
  },
  {
   "cell_type": "code",
   "execution_count": 38,
   "metadata": {},
   "outputs": [
    {
     "data": {
      "text/plain": [
       "2"
      ]
     },
     "execution_count": 38,
     "metadata": {},
     "output_type": "execute_result"
    }
   ],
   "source": [
    "nombres.index(\"Lupe\")"
   ]
  },
  {
   "cell_type": "code",
   "execution_count": 39,
   "metadata": {},
   "outputs": [
    {
     "data": {
      "text/plain": [
       "9.8"
      ]
     },
     "execution_count": 39,
     "metadata": {},
     "output_type": "execute_result"
    }
   ],
   "source": [
    "#buscamos el indice 2 de la lista notas para saber la nota de Lupe\n",
    "\n",
    "notas[2]"
   ]
  },
  {
   "attachments": {},
   "cell_type": "markdown",
   "metadata": {},
   "source": [
    "¿Qué alumna a sacado la nota más alta? Tendréis que poner en práctica, métodos aprendidos hoy y en la lección de listas de ayer."
   ]
  },
  {
   "cell_type": "code",
   "execution_count": 40,
   "metadata": {},
   "outputs": [
    {
     "data": {
      "text/plain": [
       "9.8"
      ]
     },
     "execution_count": 40,
     "metadata": {},
     "output_type": "execute_result"
    }
   ],
   "source": [
    "max(notas)"
   ]
  },
  {
   "cell_type": "code",
   "execution_count": 41,
   "metadata": {},
   "outputs": [
    {
     "data": {
      "text/plain": [
       "2"
      ]
     },
     "execution_count": 41,
     "metadata": {},
     "output_type": "execute_result"
    }
   ],
   "source": [
    "notas.index(9.8)"
   ]
  },
  {
   "cell_type": "code",
   "execution_count": 42,
   "metadata": {},
   "outputs": [
    {
     "name": "stdout",
     "output_type": "stream",
     "text": [
      "La alumna con la nota mas alta es Lupe\n"
     ]
    }
   ],
   "source": [
    "print(\"La alumna con la nota mas alta es\", nombres[2])"
   ]
  },
  {
   "attachments": {},
   "cell_type": "markdown",
   "metadata": {},
   "source": [
    "¿Qué alumna ha sacado la nota más baja? ¿Es esta nota mayor que 5?"
   ]
  },
  {
   "cell_type": "code",
   "execution_count": 43,
   "metadata": {},
   "outputs": [
    {
     "data": {
      "text/plain": [
       "8.5"
      ]
     },
     "execution_count": 43,
     "metadata": {},
     "output_type": "execute_result"
    }
   ],
   "source": [
    "min(notas)"
   ]
  },
  {
   "cell_type": "code",
   "execution_count": 44,
   "metadata": {},
   "outputs": [
    {
     "data": {
      "text/plain": [
       "1"
      ]
     },
     "execution_count": 44,
     "metadata": {},
     "output_type": "execute_result"
    }
   ],
   "source": [
    "notas.index(8.5)"
   ]
  },
  {
   "cell_type": "code",
   "execution_count": 45,
   "metadata": {},
   "outputs": [
    {
     "name": "stdout",
     "output_type": "stream",
     "text": [
      "La alumna con la nota mas baja es Lorena\n"
     ]
    }
   ],
   "source": [
    "print(\"La alumna con la nota mas baja es\", nombres[1])"
   ]
  },
  {
   "cell_type": "code",
   "execution_count": 46,
   "metadata": {},
   "outputs": [
    {
     "data": {
      "text/plain": [
       "True"
      ]
     },
     "execution_count": 46,
     "metadata": {},
     "output_type": "execute_result"
    }
   ],
   "source": [
    "min(notas) > 5"
   ]
  },
  {
   "attachments": {},
   "cell_type": "markdown",
   "metadata": {},
   "source": [
    "Ordenad la lista de notas de mayor a menor y almacenalo en una nueva variable llamada notas_nuevo_orden"
   ]
  },
  {
   "cell_type": "code",
   "execution_count": 47,
   "metadata": {},
   "outputs": [
    {
     "name": "stdout",
     "output_type": "stream",
     "text": [
      "[9, 8.5, 9.8, 8.9, 9.2]\n"
     ]
    }
   ],
   "source": [
    "notas_nuevo_orden = notas.copy()\n",
    "print(notas_nuevo_orden)"
   ]
  },
  {
   "cell_type": "code",
   "execution_count": 48,
   "metadata": {},
   "outputs": [],
   "source": [
    "notas_nuevo_orden.sort()"
   ]
  },
  {
   "cell_type": "code",
   "execution_count": 49,
   "metadata": {},
   "outputs": [
    {
     "name": "stdout",
     "output_type": "stream",
     "text": [
      "[8.5, 8.9, 9, 9.2, 9.8]\n"
     ]
    }
   ],
   "source": [
    "print(notas_nuevo_orden)"
   ]
  },
  {
   "attachments": {},
   "cell_type": "markdown",
   "metadata": {},
   "source": [
    "Ordenad las notas de las alumnas de mayor a menor. Usa el método que sobreescriba la variable notas."
   ]
  },
  {
   "cell_type": "code",
   "execution_count": 50,
   "metadata": {},
   "outputs": [
    {
     "name": "stdout",
     "output_type": "stream",
     "text": [
      "[9.8, 9.2, 9, 8.9, 8.5]\n"
     ]
    }
   ],
   "source": [
    "\n",
    "notas_nuevo_orden.sort(reverse=True)\n",
    "print(notas_nuevo_orden)"
   ]
  },
  {
   "attachments": {},
   "cell_type": "markdown",
   "metadata": {},
   "source": [
    "Ordenad la lista de nombres de mayor a menor. ¿Qué ha pasado?"
   ]
  },
  {
   "cell_type": "code",
   "execution_count": 51,
   "metadata": {},
   "outputs": [],
   "source": [
    "nombres2 = nombres.copy()\n"
   ]
  },
  {
   "cell_type": "code",
   "execution_count": 54,
   "metadata": {},
   "outputs": [
    {
     "data": {
      "text/plain": [
       "['Laura', 'Lorena', 'Loreto', 'Lucía', 'Lupe']"
      ]
     },
     "execution_count": 54,
     "metadata": {},
     "output_type": "execute_result"
    }
   ],
   "source": [
    "nombres2.sort()\n",
    "nombres2"
   ]
  },
  {
   "attachments": {},
   "cell_type": "markdown",
   "metadata": {},
   "source": [
    "Borrad la lista de notas"
   ]
  },
  {
   "cell_type": "code",
   "execution_count": 59,
   "metadata": {},
   "outputs": [],
   "source": [
    "del notas"
   ]
  },
  {
   "attachments": {},
   "cell_type": "markdown",
   "metadata": {},
   "source": [
    "Dadas las siguientes listas: \n",
    "lunes = [34,56,82]\n",
    "martes = [99, 64, 24]\n",
    "miercoles = [12, 59, 71]"
   ]
  },
  {
   "cell_type": "code",
   "execution_count": 61,
   "metadata": {},
   "outputs": [],
   "source": [
    "lunes = [34,56,82]\n",
    "martes = [99, 64, 24]\n",
    "miercoles = [12, 59, 71]"
   ]
  },
  {
   "attachments": {},
   "cell_type": "markdown",
   "metadata": {},
   "source": [
    "Unid las tres listas de forma que tengamos el siguiente output:\n",
    "[34, 56, 82, [99, 64, 24], [12, 59, 71]]"
   ]
  },
  {
   "cell_type": "code",
   "execution_count": 63,
   "metadata": {},
   "outputs": [
    {
     "data": {
      "text/plain": [
       "[34, 56, 82, [99, 64, 24], [12, 59, 71]]"
      ]
     },
     "execution_count": 63,
     "metadata": {},
     "output_type": "execute_result"
    }
   ],
   "source": [
    "lista_nueva = lunes + [martes, miercoles]\n",
    "\n",
    "lista_nueva"
   ]
  },
  {
   "attachments": {},
   "cell_type": "markdown",
   "metadata": {},
   "source": [
    "Definid de nuevo las tres listas. Ahora unid las tres listas de tal forma que obtengamos el siguiente output: \n",
    "[34, 56, 82, 99, 64, 24, 12, 59, 71]"
   ]
  },
  {
   "cell_type": "code",
   "execution_count": 65,
   "metadata": {},
   "outputs": [
    {
     "data": {
      "text/plain": [
       "[34, 56, 82, 99, 64, 24, 12, 59, 71]"
      ]
     },
     "execution_count": 65,
     "metadata": {},
     "output_type": "execute_result"
    }
   ],
   "source": [
    "lista_nueva2 = lunes + martes + miercoles\n",
    "lista_nueva2"
   ]
  },
  {
   "attachments": {},
   "cell_type": "markdown",
   "metadata": {},
   "source": [
    "Definid de nuevo las tres listas. Insertad los siguientes valores: \n",
    "- En la lista lunes un 100 en la primera posición\n",
    "- En la lista martes un 100 en la tercera posición\n",
    "- En la lista miércoles un 100 en la última posición"
   ]
  },
  {
   "cell_type": "code",
   "execution_count": 78,
   "metadata": {},
   "outputs": [],
   "source": [
    "lunes = [34,56,82]\n",
    "martes = [99, 64, 24]\n",
    "miercoles = [12, 59, 71]\n",
    "\n",
    "lunes.insert(0,100)\n",
    "martes.insert(2,100)\n",
    "miercoles.insert(3,100)"
   ]
  },
  {
   "cell_type": "code",
   "execution_count": 79,
   "metadata": {},
   "outputs": [
    {
     "name": "stdout",
     "output_type": "stream",
     "text": [
      "[100, 34, 56, 82]\n",
      "[99, 64, 100, 24]\n",
      "[12, 59, 71, 100]\n"
     ]
    }
   ],
   "source": [
    "print(lunes)\n",
    "print(martes)\n",
    "print(miercoles)"
   ]
  }
 ],
 "metadata": {
  "kernelspec": {
   "display_name": "base",
   "language": "python",
   "name": "python3"
  },
  "language_info": {
   "codemirror_mode": {
    "name": "ipython",
    "version": 3
   },
   "file_extension": ".py",
   "mimetype": "text/x-python",
   "name": "python",
   "nbconvert_exporter": "python",
   "pygments_lexer": "ipython3",
   "version": "3.9.7"
  },
  "orig_nbformat": 4,
  "vscode": {
   "interpreter": {
    "hash": "db7bd025df65c7597afc89e8af7f2db194aeaa765a185e8abc9a69a1d773dfc1"
   }
  }
 },
 "nbformat": 4,
 "nbformat_minor": 2
}
