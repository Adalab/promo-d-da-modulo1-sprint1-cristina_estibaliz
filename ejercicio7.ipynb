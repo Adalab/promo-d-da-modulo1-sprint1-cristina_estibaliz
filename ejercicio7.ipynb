{
 "cells": [
  {
   "attachments": {},
   "cell_type": "markdown",
   "metadata": {},
   "source": [
    "Escribid un programa que pregunte al usuario una cantidad a invertir, el interés anual y el número de años, y muestre por pantalla el capital obtenido en la inversión cada año que dura la inversión."
   ]
  },
  {
   "cell_type": "code",
   "execution_count": 62,
   "metadata": {},
   "outputs": [
    {
     "name": "stdout",
     "output_type": "stream",
     "text": [
      "El rendimiento por año de tu inversión sería 2500\n"
     ]
    }
   ],
   "source": [
    "cantidad_invertir = int(input('Cuánto dinero quieres invertir'))\n",
    "interes_anual = int(input('Qué interés anual quieres tener'))\n",
    "numero_años = (input('Durante cuántos años'))\n",
    "\n",
    "for range in numero_años:\n",
    "    total_inversion = cantidad_invertir * interes_anual // int(numero_años)\n",
    "    print(f'El rendimiento por año de tu inversión sería {total_inversion}')\n",
    "\n",
    "# el númuero de años que queremos es 3, por eso hemos establecido el range en 4. Revisar el range "
   ]
  },
  {
   "attachments": {},
   "cell_type": "markdown",
   "metadata": {},
   "source": [
    "Escribid un programa en el que se pregunte al usuario por una frase y una letra, y muestre por pantalla el número de veces que aparece la letra en la frase."
   ]
  },
  {
   "cell_type": "code",
   "execution_count": 11,
   "metadata": {},
   "outputs": [
    {
     "name": "stdout",
     "output_type": "stream",
     "text": [
      "La letra seleccionada se ha encontrado 6 veces.\n"
     ]
    }
   ],
   "source": [
    "frase = input('Dime una frase significativa para tí')\n",
    "letra = input('Dime tu vocal favorita')\n",
    "numero_veces = []\n",
    "\n",
    "for i in frase:\n",
    "    if i == letra:\n",
    "        numero_veces.append(letra)\n",
    "    else:\n",
    "        continue\n",
    "print('La letra seleccionada se ha encontrado' ,numero_veces.count(letra), 'veces.')\n",
    "\n",
    "# revisar"
   ]
  },
  {
   "attachments": {},
   "cell_type": "markdown",
   "metadata": {},
   "source": [
    "Escribid un programa que nos devuelva la tabla de multiplicar de un número especificado en una función input"
   ]
  },
  {
   "cell_type": "code",
   "execution_count": 18,
   "metadata": {},
   "outputs": [
    {
     "name": "stdout",
     "output_type": "stream",
     "text": [
      "La tabla de multiplicar del 6 es:\n",
      "6 * 0 = 0\n",
      "La tabla de multiplicar del 6 es:\n",
      "6 * 1 = 6\n",
      "La tabla de multiplicar del 6 es:\n",
      "6 * 2 = 12\n",
      "La tabla de multiplicar del 6 es:\n",
      "6 * 3 = 18\n",
      "La tabla de multiplicar del 6 es:\n",
      "6 * 4 = 24\n",
      "La tabla de multiplicar del 6 es:\n",
      "6 * 5 = 30\n",
      "La tabla de multiplicar del 6 es:\n",
      "6 * 6 = 36\n",
      "La tabla de multiplicar del 6 es:\n",
      "6 * 7 = 42\n",
      "La tabla de multiplicar del 6 es:\n",
      "6 * 8 = 48\n",
      "La tabla de multiplicar del 6 es:\n",
      "6 * 9 = 54\n",
      "La tabla de multiplicar del 6 es:\n",
      "6 * 10 = 60\n"
     ]
    }
   ],
   "source": [
    "tabla_multiplicar = int(input('Elige la tabla de multiplicar de un número'))\n",
    "\n",
    "for num in range(11):\n",
    "    resultado = tabla_multiplicar * num\n",
    "    print(f\"La tabla de multiplicar del {tabla_multiplicar} es:\")\n",
    "    print(f\"{tabla_multiplicar} * {num} = {resultado}\")\n",
    "\n"
   ]
  },
  {
   "attachments": {},
   "cell_type": "markdown",
   "metadata": {},
   "source": [
    "Dada la siguiente lista de números: numbers = [12, 75, 150, 180, 145, 525, 50]\n",
    "Escribid un programa que muestre sólo los números de una lista que cumplan las siguientes condiciones:\n",
    "El número debe ser divisible entre cinco; si el número es mayor que 150, se salta y se pasa el siguiente número. Si el número es mayor que 500, entonces detenga el bucle. "
   ]
  },
  {
   "cell_type": "code",
   "execution_count": 20,
   "metadata": {},
   "outputs": [],
   "source": [
    "numbers = [12, 75, 150, 180, 145, 525, 50]"
   ]
  },
  {
   "cell_type": "code",
   "execution_count": 21,
   "metadata": {},
   "outputs": [
    {
     "name": "stdout",
     "output_type": "stream",
     "text": [
      "75\n",
      "150\n",
      "145\n"
     ]
    }
   ],
   "source": [
    "for num in numbers:\n",
    "    if num > 500:\n",
    "        break\n",
    "    elif num > 150:\n",
    "        continue\n",
    "    elif num % 5 == 0:\n",
    "        print(num)\n",
    "\n",
    "    "
   ]
  },
  {
   "attachments": {},
   "cell_type": "markdown",
   "metadata": {},
   "source": [
    "Dada la siguiente lista: list1 = [10, 20, 30, 40, 50]\n",
    "Imprimir la lista en orden inverso"
   ]
  },
  {
   "cell_type": "code",
   "execution_count": 8,
   "metadata": {},
   "outputs": [
    {
     "name": "stdout",
     "output_type": "stream",
     "text": [
      "[50, 40, 30, 20, 10]\n"
     ]
    }
   ],
   "source": [
    "# Modificado tras corregirlo en clase. \n",
    "\n",
    "list1 = [10,20,30,40,50]\n",
    "list2 = list1.copy()\n",
    "lista_vacia = []\n",
    "\n",
    "for num in list1:\n",
    "    lista_vacia.append(list2[-1])\n",
    "    list2.pop()\n",
    "\n",
    "print(lista_vacia)\n"
   ]
  },
  {
   "attachments": {},
   "cell_type": "markdown",
   "metadata": {},
   "source": [
    "Dado el siguiente código: \n",
    "\n",
    "for i in ['1','2','3']:\n",
    "    print (i**2)\n",
    "\n",
    "Usando un try ... except, cread un programa para evitar que nos de un error el código anterior. En su lugar, si se encuentra un error, deberéis poner el código necesario para que no nos devuelva error."
   ]
  },
  {
   "cell_type": "code",
   "execution_count": 60,
   "metadata": {},
   "outputs": [
    {
     "name": "stdout",
     "output_type": "stream",
     "text": [
      "Estas intentando operar con strings\n",
      "Estas intentando operar con strings\n",
      "Estas intentando operar con strings\n"
     ]
    }
   ],
   "source": [
    "for i in ['1','2','3']:\n",
    "    try:\n",
    "        print (i**2)\n",
    "    except TypeError:\n",
    "        print('Estas intentando operar con strings')\n"
   ]
  }
 ],
 "metadata": {
  "kernelspec": {
   "display_name": "Python 3",
   "language": "python",
   "name": "python3"
  },
  "language_info": {
   "codemirror_mode": {
    "name": "ipython",
    "version": 3
   },
   "file_extension": ".py",
   "mimetype": "text/x-python",
   "name": "python",
   "nbconvert_exporter": "python",
   "pygments_lexer": "ipython3",
   "version": "3.9.7"
  },
  "orig_nbformat": 4
 },
 "nbformat": 4,
 "nbformat_minor": 2
}
