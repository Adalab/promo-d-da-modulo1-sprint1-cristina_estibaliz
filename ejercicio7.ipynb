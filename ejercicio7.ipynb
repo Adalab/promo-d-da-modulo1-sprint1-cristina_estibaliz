{
 "cells": [
  {
   "attachments": {},
   "cell_type": "markdown",
   "metadata": {},
   "source": [
    "1. Escribid un programa que pregunte al usuario una cantidad a invertir, el interés anual y el número de años, y muestre por pantalla el capital obtenido en la inversión cada año que dura la inversión."
   ]
  },
  {
   "cell_type": "code",
   "execution_count": 62,
   "metadata": {},
   "outputs": [
    {
     "name": "stdout",
     "output_type": "stream",
     "text": [
      "El rendimiento por año de tu inversión sería 2500\n"
     ]
    }
   ],
   "source": [
    "cantidad_invertir = int(input('Cuánto dinero quieres invertir'))\n",
    "interes_anual = int(input('Qué interés anual quieres tener'))\n",
    "numero_años = (input('Durante cuántos años'))\n",
    "\n",
    "for range in numero_años:\n",
    "    total_inversion = cantidad_invertir * interes_anual // int(numero_años)\n",
    "    print(f'El rendimiento por año de tu inversión sería {total_inversion}')\n",
    "\n",
    "# el númuero de años que queremos es 3, por eso hemos establecido el range en 4. Revisar el range "
   ]
  },
  {
   "attachments": {},
   "cell_type": "markdown",
   "metadata": {},
   "source": [
    "2. Escribid un programa en el que se pregunte al usuario por una frase y una letra, y muestre por pantalla el número de veces que aparece la letra en la frase."
   ]
  },
  {
   "cell_type": "code",
   "execution_count": 7,
   "metadata": {},
   "outputs": [
    {
     "name": "stdout",
     "output_type": "stream",
     "text": [
      "La letra seleccionada se ha encontrado 1 vez\n",
      "La letra seleccionada se ha encontrado 1 vez\n",
      "La letra seleccionada se ha encontrado 1 vez\n"
     ]
    }
   ],
   "source": [
    "frase = input('Dime una frase significativa para tí')\n",
    "letra = input('Dime tu vocal favorita')\n",
    "\n",
    "for i in frase:\n",
    "    if i == letra:\n",
    "        numero_veces = letra.count(i)\n",
    "    else:\n",
    "        continue\n",
    "    print('La letra seleccionada se ha encontrado' ,numero_veces, 'vez')\n",
    "\n",
    "# revisar"
   ]
  },
  {
   "attachments": {},
   "cell_type": "markdown",
   "metadata": {},
   "source": [
    "3. Escribid un programa que nos devuelva la tabla de multiplicar de un número especificado en una función input"
   ]
  },
  {
   "cell_type": "code",
   "execution_count": 8,
   "metadata": {},
   "outputs": [
    {
     "name": "stdout",
     "output_type": "stream",
     "text": [
      "0\n",
      "5\n",
      "10\n",
      "15\n",
      "20\n",
      "25\n",
      "30\n",
      "35\n",
      "40\n",
      "45\n",
      "50\n"
     ]
    }
   ],
   "source": [
    "tabla_multiplicar = int(input('Elige la tabla de multiplicar de un número'))\n",
    "\n",
    "for num in range(11):\n",
    "    resultado = tabla_multiplicar * num\n",
    "    print(resultado)\n",
    "\n",
    "# revisar para que el print sea más estetico"
   ]
  },
  {
   "attachments": {},
   "cell_type": "markdown",
   "metadata": {},
   "source": [
    "4. Dada la siguiente lista de números: numbers = [12, 75, 150, 180, 145, 525, 50]\n",
    "Escribid un programa que muestre sólo los números de una lista que cumplan las siguientes condiciones:\n",
    "El número debe ser divisible entre cinco"
   ]
  },
  {
   "cell_type": "code",
   "execution_count": 36,
   "metadata": {},
   "outputs": [],
   "source": [
    "numbers = [12, 75, 150, 180, 145, 525, 50]"
   ]
  },
  {
   "cell_type": "code",
   "execution_count": 37,
   "metadata": {},
   "outputs": [],
   "source": [
    "lista_numbers = []"
   ]
  },
  {
   "cell_type": "code",
   "execution_count": 38,
   "metadata": {},
   "outputs": [
    {
     "name": "stdout",
     "output_type": "stream",
     "text": [
      "Este número no es divisible entre 5\n",
      "[75, 150, 180, 145, 525, 50]\n"
     ]
    }
   ],
   "source": [
    "for num in numbers:\n",
    "    if num % 5 == 0:\n",
    "        lista_numbers.append(num)\n",
    "    else:\n",
    "        print('Este número no es divisible entre 5')\n",
    "print(lista_numbers)\n",
    "    \n"
   ]
  },
  {
   "attachments": {},
   "cell_type": "markdown",
   "metadata": {},
   "source": [
    "Si el número es mayor que 150, se salta y se pasa al siguiente número"
   ]
  },
  {
   "cell_type": "code",
   "execution_count": 46,
   "metadata": {},
   "outputs": [
    {
     "name": "stdout",
     "output_type": "stream",
     "text": [
      "[12, 75, 150, 145, 50]\n"
     ]
    }
   ],
   "source": [
    "numbers = [12, 75, 150, 180, 145, 525, 50]\n",
    "\n",
    "numbers4 = []\n",
    "\n",
    "for n in numbers:\n",
    "    if n > 150:\n",
    "        pass\n",
    "    else:\n",
    "        numbers4.append(n)\n",
    "\n",
    "print(numbers4)"
   ]
  },
  {
   "attachments": {},
   "cell_type": "markdown",
   "metadata": {},
   "source": [
    "Si el número es mayor que 500, entonces detenga el bucle"
   ]
  },
  {
   "cell_type": "code",
   "execution_count": 48,
   "metadata": {},
   "outputs": [
    {
     "name": "stdout",
     "output_type": "stream",
     "text": [
      "[12, 75, 150, 180, 145]\n"
     ]
    }
   ],
   "source": [
    "numbers = [12, 75, 150, 180, 145, 525, 50]\n",
    "\n",
    "numbers5 = []\n",
    "\n",
    "for nu in numbers:\n",
    "    if nu < 500:\n",
    "        numbers5.append(nu)\n",
    "    else:\n",
    "        break\n",
    "\n",
    "print(numbers5)"
   ]
  },
  {
   "attachments": {},
   "cell_type": "markdown",
   "metadata": {},
   "source": [
    "Dada la siguiente lista: list1 = [10, 20, 30, 40, 50]\n",
    "Imprimir la lista en orden inverso"
   ]
  },
  {
   "cell_type": "code",
   "execution_count": 2,
   "metadata": {},
   "outputs": [
    {
     "name": "stdout",
     "output_type": "stream",
     "text": [
      "[50, 40, 30, 20, 10]\n"
     ]
    }
   ],
   "source": [
    "list1 = [10,20,30,40,50]\n",
    "\n",
    "for num in list1:\n",
    "    num == list1.sort(reverse = True)\n",
    "\n",
    "print(list1)\n"
   ]
  },
  {
   "attachments": {},
   "cell_type": "markdown",
   "metadata": {},
   "source": [
    "Dado el siguiente código: \n",
    "\n",
    "for i in ['1','2','3']:\n",
    "    print (i**2)\n",
    "\n",
    "Usando un try ... except, cread un programa para evitar que nos de un error el código anterior. En su lugar, si se encuentra un error, deberéis poner el código necesario para que no nos devuelva error."
   ]
  },
  {
   "cell_type": "code",
   "execution_count": 60,
   "metadata": {},
   "outputs": [
    {
     "name": "stdout",
     "output_type": "stream",
     "text": [
      "Estas intentando operar con strings\n",
      "Estas intentando operar con strings\n",
      "Estas intentando operar con strings\n"
     ]
    }
   ],
   "source": [
    "for i in ['1','2','3']:\n",
    "    try:\n",
    "        print (i**2)\n",
    "    except TypeError:\n",
    "        print('Estas intentando operar con strings')\n"
   ]
  }
 ],
 "metadata": {
  "kernelspec": {
   "display_name": "Python 3",
   "language": "python",
   "name": "python3"
  },
  "language_info": {
   "codemirror_mode": {
    "name": "ipython",
    "version": 3
   },
   "file_extension": ".py",
   "mimetype": "text/x-python",
   "name": "python",
   "nbconvert_exporter": "python",
   "pygments_lexer": "ipython3",
   "version": "3.9.7"
  },
  "orig_nbformat": 4
 },
 "nbformat": 4,
 "nbformat_minor": 2
}
